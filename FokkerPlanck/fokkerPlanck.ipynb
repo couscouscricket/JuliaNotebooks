{
 "cells": [
  {
   "cell_type": "markdown",
   "metadata": {},
   "source": [
    "# La Ecuación de Fokker-Plank\n",
    "\n",
    "La ecuación de Langevin para una partícula browniana que se encuentra bajo la acción de una fuerza externa es: \n",
    "\n",
    "$$ \\dot{X}(t) = \\frac{F(x)}{m\\gamma} +b(t)$$\n",
    "\n",
    "Donde $\\gamma$ es una constante que depende de la viscosidad del fluido, $m$ es la masa de la partícula, $F$ es la fuerza exteran $X$ es una variable aleatoria de la posición, $b(t)$ es una fuerza aleatoria. \n",
    "\n",
    "Esta ecuación es una ecuación estocastico-diferencial, por lo que resulta particularmente complicado resolverla y numéricamente contiene un ruido intrínseco. Sin embargo, es posible transformar esta ecuación a la ecuación de Fokker-Plank, que es una ecuación diferencial parcial sobre la distribución de probabilidades de $X$. La transformación de un sistema a otro, sin embargo, implica la asumpción que la fuerza externa es lo suficientemente suabe como para quedarnos con los primeros términos de la aproximación en el desarrollo de Tylor. Esto implica que es sólo válida para potenciales suaves, como es el caso de partículas coloidales. La ecuación que obtuvimos en clase es la siguiente: \n",
    "\n",
    "$$\\frac{\\partial}{\\partial t} p(x, t) = -[a(x) p(x, t)] + D\\frac{\\partial^2}{\\partial x^2}p(x, t)$$\n",
    "\n",
    "Esta ecuación (con un poco de talacha) se puede generalizar a 3D y al caso donde $D$ no es una constante. \n",
    "\n",
    "$$\\frac{\\partial p(\\mathbf{x},t)}{\\partial t} = -\\sum_{i=1}^N \\frac{\\partial}{\\partial x_i} \\left[ a_i(\\mathbf{x}) \\, p(\\mathbf{x},t) \\right] + \\frac{1}{2} \\sum_{k=1}^M \\sum_{i=1}^{N} \\frac{\\partial}{\\partial x_i} \\left\\{ \\sigma_{ik}(\\mathbf{x},t)  \\sum_{j=1}^{N} \\frac{\\partial}{\\partial x_j} \\left[  \\sigma_{jk}(\\mathbf{x},t) \\, p(\\mathbf{x},t) \\right] \\right\\}$$\n",
    "\n",
    "Donde los $\\sigma_{ij}$ son los elementos del tensor de difusión: \n",
    "\n",
    "$$D_{ij}(\\mathbf{x},t) = \\frac{1}{2}\\sum_{k=1}^M \\sigma_{ik}(\\mathbf{x},t) \\sigma_{jk}(\\mathbf{x},t)$$\n",
    "\n",
    "# Discretización \n",
    "\n",
    "Para resolver el problema numéricamente, uno de los métodos más sencillos a aplicarse es el de diferencias finitas. Este consiste en discretizar tanto el tiempo como el espacio la ecuación de difusión y después aplicar el método de Euler sobre la discretización.\n",
    "\n",
    "Resolveremos el caso 1D. Para esto conviene escribir la ecuación de difusión de forma desarrollada, de tal manera que cada miembro contenga una sola función. Es decir: \n",
    "\n",
    "\n",
    "$$\\frac{\\partial}{\\partial t} p(x, t) = -a(x) \\frac{\\partial}{\\partial x}p(x, t)-p(x,t) \\frac{\\partial}{\\partial x}a(x) + D\\frac{\\partial^2}{\\partial x^2}p(x, t)$$\n",
    "\n",
    "Una vez escrito esto, notamos que: \n",
    "\n",
    "$$p^{n+1}_{i} = p(t_{n}+h,x_{i})$$\n",
    "\n",
    "$$p^{n}_{i+1} = p(t_{n},x_{i} + k)$$\n",
    "\n",
    "y también que la discretización de las parciales con respecto al tiempo y el espacio se puede escribir como: \n",
    "\n",
    "$$\\frac{\\partial p(t_{n}, x_{i})}{\\partial t} = \\frac {p(t_{n}+h,x_{i}) - p(t_{n},x_{i})}{h}$$\n",
    "\n",
    "$$\\frac{\\partial p(t_{n}, x_{i})}{\\partial x} = \\frac {p(t_{n},x_{i} + k) - p(t_{n},x_{i})) }{k} $$\n",
    "\n",
    "La segunda derivada se puede hacer de 3 formas, el más común es el que se conoce como \"desarrollo centrado\". Es decir: \n",
    "\n",
    "$$\\frac{\\partial^2 p(t_{n}, x_{i})}{\\partial x^2} = \\frac {p(t_{n},x_{i} + k) - 2p(t_{n},x_{i}) + p(t_{n},x_{i} - k) }{k^2} $$\n",
    "\n",
    "Que no es otra cosa que aplicar una discretización sobre la primera derivada y después derivar eso. Para esto hay 2 opciones, derivar \"hacia delante\" o \"hacia atrás\". La discretización centrada de la segunda parcial respecto a $x$ es primero discretizar hacia delante y después discretizar hacia atrás y hacer un promedio de ambos casos. \n",
    "\n",
    "Sustituyendo lo anterior en la ecuación de Fokker-Plank obtenemos: \n",
    "\n",
    "$$\\frac {p(t_{n}+h,x_{i}) - p(t_{n},x_{i})}{h} =D\\frac {p(t_{n},x_{i} + k) - 2p(t_{n},x_{i}) + p(t_{n},x_{i} - k) }{k^2}- a(x_i)  \\frac {p(t_{n},x_{i} + k) - p(t_{n},x_{i})) }{k} + p(t_{n},x_{i} ) a'(x_i)$$\n",
    "\n",
    "De donde podemos despejar $p(t_{n}+h,x_{i})$, para obtener: \n",
    "\n",
    "$$p(t_{n}+h,x_{i})  =D\\frac {p(t_{n},x_{i} + k) - 2p(t_{n},x_{i}) + p(t_{n},x_{i} - k) }{k^2}- a(x_i)  \\frac {p(t_{n},x_{i} + k) - p(t_{n},x_{i})) }{k} + p(t_{n},x_{i} ) a'(x_i)+\\frac {p(t_{n},x_{i})}{h}$$\n",
    "\n",
    "Que es la ecuación con la cual actualizaremos nuestro método de Euler. \n"
   ]
  },
  {
   "cell_type": "markdown",
   "metadata": {},
   "source": [
    "[1] Resuelve la ecuación de Fokker-Plank numéricamente en 1D para el caso donde $a(x) = 0$, usando una delta de dirac como condición inicial de $p$ y condiciones a la frontera absorventes (p = 0). \n",
    "\n",
    "[2] Resuelve ahora la ecuación para el caso donde $a(x)$ es algún poso de potencial. \n",
    "\n",
    "[3] Resuelve la ecuación para $a(x) = 0$ pero con 2 deltas de dirac como condición inicial. \n",
    "\n",
    "[4] Resuelve ahora la ecuación para el caso donde $a$ es un poso de potencial y con 2 deltas de dirac. \n",
    "\n",
    "[5] Generaliza el lo de arriba para el caso donde $D$ es una función que depende de la posición. \n",
    "\n",
    "[6] Obtén la solución ahora para el caso 2D. "
   ]
  },
  {
   "cell_type": "markdown",
   "metadata": {},
   "source": [
    "# Fokker-Planck equation\n",
    "\n",
    "For $N$ dimensions the Fokker-Planck equation is\n",
    "\n",
    "$$\n",
    "\\begin{aligned}\n",
    "\\frac{\\partial p(\\mathbf{x},t)}{\\partial t} &= -\\partial_i\\left(\\mu_i\\left(\\mathbf{x},t\\right) p\\left(\\mathbf{x}, t\\right)\\right) + \\partial_{i j}\\left(D_{i j}\\left(\\mathbf{x}, t\\right) p\\left(\\mathbf{x}, t\\right)\\right)\\\\\n",
    "    &= -p \\partial_i \\mu_i - \\mu_i \\partial_i p + (\\partial_i p)(\\partial_j D_{i j}) + p \\partial_{i j} D_{i j} + (\\partial_i D_{i j})(\\partial_j p) + D_{i j} \\partial_{i j}p\n",
    "\\end{aligned}\n",
    "$$\n",
    "\n",
    "\n",
    "$$\n",
    "p_i^{n+1} = p_i^n + \\left(D\\frac{p_{i+1}^n - 2p_i^n + p_{i-1}^n}{k^2} - a_i\\frac{p_{i+1}^n - p_i^n}{k} + p_i^n a'_i\\right)h\n",
    "$$"
   ]
  },
  {
   "cell_type": "markdown",
   "metadata": {},
   "source": [
    "## 1D case\n",
    "\n",
    "$$\n",
    "\\begin{aligned}\n",
    "\\frac{\\partial p(x,t)}{\\partial t} &= -p \\mu' - \\mu p' + 2 p' D' + p D'' + D p''\n",
    "\\end{aligned}\n",
    "$$\n",
    "\n",
    "### Discretazing\n",
    "\n",
    "$$\n",
    "\\frac{p_i^{n+1} - p_i^n}{h} = - p_i^n \\mu'_i - \\mu_i\\frac{p_{i+1}^n - p_i^n}{k} + D\\frac{p_{i+1}^n - 2p_i^n + p_{i-1}^n}{k^2}\n",
    "$$"
   ]
  },
  {
   "cell_type": "markdown",
   "metadata": {},
   "source": [
    "## Initial condition\n",
    "\n",
    "$$ p(t_0, x_i) = \\frac{1}{\\pi}\\frac{\\epsilon}{\\epsilon^2 + x_n^2}\\approx\\delta(x)$$\n",
    "\n",
    "## Boundary condition\n",
    "\n",
    "$$ p(t_n, x_0) = p(t_n, x_f) = 0$$\n",
    "\n",
    "## Diffusion coefficient\n",
    "\n",
    "$$ D(x) = e^{-3x} $$"
   ]
  },
  {
   "cell_type": "code",
   "execution_count": 34,
   "metadata": {},
   "outputs": [
    {
     "data": {
      "text/plain": [
       "println (generic function with 5 methods)"
      ]
     },
     "execution_count": 34,
     "metadata": {},
     "output_type": "execute_result"
    }
   ],
   "source": [
    "function delta(x::Float64, dx::Float64)\n",
    "    if -dx < x < 2*dx\n",
    "        return 1/dx\n",
    "    end\n",
    "    return 0.0\n",
    "end\n",
    "\n",
    "# Diffusion coefficient.\n",
    "function D(x::Float64)\n",
    "    return x^2\n",
    "end\n",
    "function D´(x::Float64)\n",
    "    return 2*x\n",
    "end\n",
    "function D´´(x::Float64)\n",
    "    return 2\n",
    "end\n",
    "\n",
    "# Potential well.\n",
    "function w(x::Float64, depth::Float64)\n",
    "    eps::Float64 = 1/depth\n",
    "    return -(eps/pi)/(x^2 + eps^2)\n",
    "end\n",
    "function w´(x::Float64, depth::Float64)\n",
    "    eps::Float64 = 1/depth\n",
    "    return (eps/pi) * 2*x/(x^2 + eps^2)^2\n",
    "end\n",
    "\n",
    "import Base.println\n",
    "function println(p::Base.Process, x::Vector{<:Real}, y::Vector{<:Real})\n",
    "    n = min(length(x), length(y))\n",
    "    @inbounds for i = 1:n\n",
    "        println(p, x[i], \" \", y[i])\n",
    "    end\n",
    "    println(p, \"e\")\n",
    "end\n",
    "function println(p::Base.Process, x::Vector{<:Real}, y::Vector{<:Real}, z::Vector{<:Real})\n",
    "    n = min(length(x), length(y), length(z))\n",
    "    @inbounds for i = 1:n\n",
    "        println(p, x[i], \" \", y[i], \" \", z[i])\n",
    "    end\n",
    "    println(p, \"e\")\n",
    "end"
   ]
  },
  {
   "cell_type": "markdown",
   "metadata": {},
   "source": [
    "## 1D"
   ]
  },
  {
   "cell_type": "code",
   "execution_count": 66,
   "metadata": {},
   "outputs": [
    {
     "data": {
      "text/html": [
       "<video autoplay controls><source src=\"output.mpeg\" type=\"video/mpeg\"></video>"
      ]
     },
     "metadata": {},
     "output_type": "display_data"
    },
    {
     "name": "stdout",
     "output_type": "stream",
     "text": [
      "  2.360474 seconds (586.14 k allocations: 25.310 MiB, 0.74% gc time)\n"
     ]
    }
   ],
   "source": [
    "function fokkerPlanck1D(x0::Float64, xf::Float64, dx::Float64, dt::Float64)\n",
    "    x::Vector{Float64} = [xi for xi = x0:dx:xf]\n",
    "    nx::Int = length(x)\n",
    "    \n",
    "    #p::Vector{Float64} = [delta(xi-0.5, dx) for xi in x]\n",
    "    p::Vector{Float64} = [-w(xi-0.3, 16.0) for xi in x]\n",
    "    p[1] = 0; p[nx] = 0\n",
    "    \n",
    "    depth::Float64 = 4\n",
    "    a::Vector{Float64} = [w(xi, depth) for xi in x]\n",
    "    a´::Vector{Float64} = [w´(xi, depth) for xi in x]\n",
    "    #a::Vector{Float64} = [0 for xi in x]\n",
    "    #a´::Vector{Float64} = [0 for xi in x]\n",
    "    \n",
    "    d::Vector{Float64} = [D(xi) for xi in x]\n",
    "    d´::Vector{Float64} = [D´(xi) for xi in x]\n",
    "    d´´::Vector{Float64} = [D´´(xi) for xi in x]\n",
    "    #d::Vector{Float64} = [1 for xi in x]\n",
    "    #d´::Vector{Float64} = [0 for xi in x]\n",
    "    #d´´::Vector{Float64} = [0 for xi in x]\n",
    "    \n",
    "    tmp::Vector{Float64} = Vector{Float64}(undef, nx)\n",
    "    \n",
    "    gp = open(`gnuplot`, \"w\")\n",
    "    println(gp, \"\n",
    "        set terminal png enhanced nocrop font 'verdana, 8' size 600, 300;\n",
    "        set colorsequence podo; set nokey;\n",
    "        set xrange [$x0:$xf];\n",
    "        set yrange [$(minimum(a))-5:$(maximum(p))+5];\n",
    "        \")\n",
    "    for n = 1:100\n",
    "        println(gp, \"set output 'tmp-\", lpad(n, 3, '0'), \".png'\")\n",
    "        println(gp, \"plot '-' w l, '-' w l\")\n",
    "        println(gp, x, p)\n",
    "        println(gp, x, a)\n",
    "        \n",
    "        for i = 2:nx-1\n",
    "            dp = p[i+1] - p[i-1]\n",
    "            p´ = dp / (2*dx)\n",
    "            p´´ = (dp - 2*p[i]) / (dx*dx)\n",
    "            tmp[i] = dt * (-p[i]*a´[i] - p´*a[i] + 2*p´*d´[i] + p[i]*d´´[i] + d[i]*p´´)\n",
    "        end\n",
    "        for i = 2:nx-1\n",
    "            p[i] += tmp[i]\n",
    "        end\n",
    "    end\n",
    "    close(gp)\n",
    "    wait(gp.closenotify)\n",
    "    run(pipeline(`ffmpeg -y -i tmp-%03d.png output.mpeg`, stdout=devnull, stderr=devnull))\n",
    "    #run(`convert -delay 20 tmp-\\* -loop 0 output.gif`)\n",
    "    run(`find -x . -name tmp-\\* -delete`)\n",
    "    display(\"text/html\", \"\"\"<video autoplay controls><source src=\"output.mpeg\" type=\"video/mpeg\"></video>\"\"\")\n",
    "    #display(\"image/gif\", read(\"output.gif\"))\n",
    "end\n",
    "@time fokkerPlanck1D(-2.0, 2.0, 2^-3, 2^-9)"
   ]
  }
 ],
 "metadata": {
  "kernelspec": {
   "display_name": "Julia 1.0.1",
   "language": "julia",
   "name": "julia-1.0"
  },
  "language_info": {
   "file_extension": ".jl",
   "mimetype": "application/julia",
   "name": "julia",
   "version": "1.0.1"
  }
 },
 "nbformat": 4,
 "nbformat_minor": 2
}
